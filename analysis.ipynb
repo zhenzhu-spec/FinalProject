{
 "cells": [
  {
   "cell_type": "markdown",
   "id": "2638ba8d",
   "metadata": {},
   "source": [
    "# Yelp Cleaned Data Analysis"
   ]
  },
  {
   "cell_type": "code",
   "execution_count": null,
   "id": "0ae476df",
   "metadata": {},
   "outputs": [],
   "source": [
    "\n",
    "import pandas as pd\n",
    "import matplotlib.pyplot as plt\n",
    "import seaborn as sns\n",
    "import folium\n",
    "from folium.plugins import HeatMap\n",
    "import numpy as np\n",
    "\n",
    "df = pd.read_csv(\"yelp_cleaned.csv\")\n",
    "df = df.dropna(subset=['stars', 'price', 'restaurant_type', 'city'])\n",
    "df.head()\n"
   ]
  },
  {
   "cell_type": "markdown",
   "id": "88148b5a",
   "metadata": {},
   "source": [
    "## 1. Top 10 Cities by Average Star Rating"
   ]
  },
  {
   "cell_type": "code",
   "execution_count": null,
   "id": "37b6f784",
   "metadata": {},
   "outputs": [],
   "source": [
    "\n",
    "avg_stars_by_city = df.groupby('city')['stars'].mean().sort_values(ascending=False).head(10)\n",
    "plt.figure(figsize=(10, 6))\n",
    "sns.barplot(x=avg_stars_by_city.values, y=avg_stars_by_city.index)\n",
    "plt.title('Top 10 Cities by Average Rating')\n",
    "plt.xlabel('Average Stars')\n",
    "plt.ylabel('City')\n",
    "plt.tight_layout()\n",
    "plt.show()\n"
   ]
  },
  {
   "cell_type": "markdown",
   "id": "3005934f",
   "metadata": {},
   "source": [
    "## 2. Price Level vs Rating (Boxplot and Regression)"
   ]
  },
  {
   "cell_type": "code",
   "execution_count": null,
   "id": "d024de10",
   "metadata": {},
   "outputs": [],
   "source": [
    "\n",
    "plt.figure(figsize=(8, 6))\n",
    "sns.boxplot(data=df, x='price', y='stars')\n",
    "plt.title('Rating Distribution by Price Level')\n",
    "plt.xlabel('Price Level')\n",
    "plt.ylabel('Stars')\n",
    "plt.tight_layout()\n",
    "plt.show()\n",
    "\n",
    "sns.lmplot(data=df, x='price', y='stars', aspect=1.5)\n",
    "plt.title('Price vs Rating (Linear Fit)')\n",
    "plt.show()\n"
   ]
  },
  {
   "cell_type": "markdown",
   "id": "2cf2e929",
   "metadata": {},
   "source": [
    "## 3. Top 10 Restaurant Types by Count"
   ]
  },
  {
   "cell_type": "code",
   "execution_count": null,
   "id": "75c9bf63",
   "metadata": {},
   "outputs": [],
   "source": [
    "\n",
    "top_types = df['restaurant_type'].value_counts().head(10)\n",
    "plt.figure(figsize=(10, 6))\n",
    "sns.barplot(x=top_types.values, y=top_types.index)\n",
    "plt.title('Top 10 Restaurant Types')\n",
    "plt.xlabel('Count')\n",
    "plt.ylabel('Restaurant Type')\n",
    "plt.tight_layout()\n",
    "plt.show()\n"
   ]
  },
  {
   "cell_type": "markdown",
   "id": "04a91611",
   "metadata": {},
   "source": [
    "## 4. Heatmap: Average Rating by State and Price"
   ]
  },
  {
   "cell_type": "code",
   "execution_count": null,
   "id": "a27cbd9e",
   "metadata": {},
   "outputs": [],
   "source": [
    "\n",
    "pivot = df.pivot_table(index='state', columns='price', values='stars', aggfunc='mean')\n",
    "plt.figure(figsize=(10, 8))\n",
    "sns.heatmap(pivot, annot=True, fmt=\".2f\", cmap='coolwarm')\n",
    "plt.title('Average Rating by State and Price Level')\n",
    "plt.xlabel('Price Level')\n",
    "plt.ylabel('State')\n",
    "plt.tight_layout()\n",
    "plt.show()\n"
   ]
  }
 ],
 "metadata": {},
 "nbformat": 4,
 "nbformat_minor": 5
}
