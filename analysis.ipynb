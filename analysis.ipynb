# analysis.ipynb
# This script performs analysis on the yelp_cleaned.csv file using pandas, seaborn, and matplotlib

import pandas as pd
import matplotlib.pyplot as plt
import seaborn as sns

# Load dataset
df = pd.read_csv("yelp_cleaned.csv")
df.head()

# Average star rating per city
city_ratings = df.groupby('city')['stars'].mean().sort_values(ascending=False).head(10)

plt.figure(figsize=(10, 6))
sns.barplot(x=city_ratings.values, y=city_ratings.index, palette="viridis")
plt.title("Top 10 Cities by Average Yelp Rating")
plt.xlabel("Average Rating")
plt.ylabel("City")
plt.tight_layout()
plt.show()

# Drop NA in price and stars for analysis
df_price = df.dropna(subset=['price', 'stars'])

# Boxplot
plt.figure(figsize=(8, 5))
sns.boxplot(x='price', y='stars', data=df_price, palette="coolwarm")
plt.title("Rating Distribution by Price Level")
plt.xlabel("Price Level")
plt.ylabel("Stars")
plt.tight_layout()
plt.show()

# Regression plot (if price is numerical, otherwise skip)
if df_price['price'].dtype != object:
    sns.lmplot(x='price', y='stars', data=df_price, aspect=1.5)
    plt.title("Price vs Rating Regression")
    plt.show()

# Count plot for restaurant_type
plt.figure(figsize=(10, 6))
sns.countplot(data=df, y='restaurant_type', order=df['restaurant_type'].value_counts().index[:10], palette='mako')
plt.title("Top 10 Restaurant Types")
plt.xlabel("Count")
plt.ylabel("Restaurant Type")
plt.tight_layout()
plt.show()

import matplotlib.pyplot as plt
import seaborn as sns

# Filter top 10 cities and top 10 restaurant types by frequency
top_cities = df['city'].value_counts().head(10).index
top_types = df['restaurant_type'].value_counts().head(10).index

filtered_df = df[df['city'].isin(top_cities) & df['restaurant_type'].isin(top_types)]

# Create pivot table of average star ratings
pivot_table = filtered_df.pivot_table(
    values='stars',
    index='restaurant_type',
    columns='city',
    aggfunc='mean'
)

# Plot the heatmap
plt.figure(figsize=(12, 6))
sns.heatmap(pivot_table, annot=True, fmt=".1f", cmap="YlGnBu")
plt.title("Average Yelp Rating by Restaurant Type and City (Top 10 each)")
plt.xlabel("City")
plt.ylabel("Restaurant Type")
plt.tight_layout()
plt.show()
